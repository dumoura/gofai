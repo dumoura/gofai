{
  "nbformat": 4,
  "nbformat_minor": 0,
  "metadata": {
    "colab": {
      "provenance": [],
      "authorship_tag": "ABX9TyN+wnngv0Q/u6X1Zl53DiZ6",
      "include_colab_link": true
    },
    "kernelspec": {
      "name": "python3",
      "display_name": "Python 3"
    },
    "language_info": {
      "name": "python"
    }
  },
  "cells": [
    {
      "cell_type": "markdown",
      "metadata": {
        "id": "view-in-github",
        "colab_type": "text"
      },
      "source": [
        "<a href=\"https://colab.research.google.com/github/dumoura/gofai/blob/main/Good_Old_Fashioned_Artificial_Intelligence_(GOFAI).ipynb\" target=\"_parent\"><img src=\"https://colab.research.google.com/assets/colab-badge.svg\" alt=\"Open In Colab\"/></a>"
      ]
    },
    {
      "cell_type": "markdown",
      "source": [
        "# GOFAI"
      ],
      "metadata": {
        "id": "15P-beMesfnb"
      }
    },
    {
      "cell_type": "markdown",
      "source": [
        "The main purpose here is to demonstrate how traditional symbolic AI techniques- Good Old-Fashioned Artificial Intelligence (GOFAI) - can be used to solve logical reasoning problems.\n",
        "\n",
        "These examples illustrate key concepts in propositional logic and constraint satisfaction, which are fundamental to understanding symbolic AI."
      ],
      "metadata": {
        "id": "JyBjixSbsRoZ"
      }
    },
    {
      "cell_type": "code",
      "source": [],
      "metadata": {
        "id": "3ifiEcVIsQpt"
      },
      "execution_count": null,
      "outputs": []
    },
    {
      "cell_type": "markdown",
      "source": [
        "\n",
        "\n",
        "### Key Objectives and Concepts Demonstrated:\n",
        "1. **Logical Representation of Knowledge**:\n",
        "   - The codes show how different real-world problems can be translated into a formal representation using symbols and logical sentences. For instance, people, rooms, and weapons are represented as symbols in the *Clue* example, while colors and positions are represented in the logic puzzle.\n",
        "   - This symbolic representation allows AI to reason about the relationships and constraints without relying on statistical methods or machine learning.\n",
        "\n",
        "2. **Using Propositional Logic for Inference**:\n",
        "   - Each code example constructs a knowledge base consisting of logical sentences (propositional formulas). These sentences express rules, constraints, or facts about the problem.\n",
        "   - The use of `And`, `Or`, `Not`, `Implication`, and `Biconditional` classes allows us to represent complex logical relationships between propositions.\n",
        "\n",
        "3. **Constraint Satisfaction Problems (CSPs)**:\n",
        "   - The codes present problems that can be viewed as CSPs, where the goal is to find values for variables that satisfy a set of constraints.\n",
        "   - For example, in the *Clue* game scenario, the constraints ensure that exactly one person, one room, and one weapon are involved in the crime. Similarly, the logic puzzle with colors ensures that each color has a unique position.\n",
        "\n",
        "4. **Model Checking for Logical Entailment**:\n",
        "   - The `model_check` function illustrates the process of evaluating whether a knowledge base entails a given proposition. This involves checking all possible models (combinations of truth values for symbols) to see if the knowledge logically implies a specific outcome.\n",
        "   - This approach exemplifies how symbolic AI performs reasoning based on formal logic rather than learned patterns, as in machine learning.\n",
        "\n",
        "5. **Automated Deduction and Problem Solving**:\n",
        "   - The examples simulate automated deduction by deriving conclusions from a set of premises. This is a core concept in symbolic AI, where the system uses logical rules to infer new knowledge.\n",
        "   - For instance, the code can deduce which character, room, or weapon is involved in the *Clue* game by systematically eliminating impossible options.\n",
        "\n",
        "### Teaching GOFAI Through These Examples:\n",
        "As a professor teaching GOFAI, you would use these examples to help students understand how early AI approaches attempted to mimic human reasoning using symbolic representations and logical rules. The focus is on:\n",
        "- **Encoding knowledge explicitly** as logical formulas, which can then be manipulated algorithmically.\n",
        "- **Understanding the limitations and challenges** of symbolic reasoning, such as the need for exhaustive search (checking all models), scalability issues, and handling uncertainty or incomplete information.\n",
        "- **Highlighting the contrast between GOFAI and modern AI approaches**, like machine learning, where reasoning is achieved through data-driven pattern recognition rather than explicit logical inference.\n",
        "\n",
        "These examples serve as a practical introduction to symbolic AI, demonstrating how problems can be solved using logical reasoning techniques and setting the stage for more advanced topics in AI, such as knowledge representation, theorem proving, and non-monotonic reasoning."
      ],
      "metadata": {
        "id": "B2oC-URtojcT"
      }
    },
    {
      "cell_type": "code",
      "source": [
        "from IPython.display import display, HTML, Markdown\n",
        "display(HTML(\"<style>.container { width:100% !important; }</style>\"))"
      ],
      "metadata": {
        "colab": {
          "base_uri": "https://localhost:8080/",
          "height": 17
        },
        "id": "F2eV_kKprMCI",
        "outputId": "6d6f2235-cc06-4a46-b584-5c17a0996aec"
      },
      "execution_count": null,
      "outputs": [
        {
          "output_type": "display_data",
          "data": {
            "text/plain": [
              "<IPython.core.display.HTML object>"
            ],
            "text/html": [
              "<style>.container { width:100% !important; }</style>"
            ]
          },
          "metadata": {}
        }
      ]
    },
    {
      "cell_type": "code",
      "execution_count": null,
      "metadata": {
        "colab": {
          "base_uri": "https://localhost:8080/"
        },
        "id": "uhIDJDZzlO_l",
        "outputId": "8f06a0be-568c-438e-f3a2-16b7708c024e"
      },
      "outputs": [
        {
          "output_type": "stream",
          "name": "stdout",
          "text": [
            "Entailed symbols:\n",
            "red0\n",
            "blue1\n",
            "yellow2\n",
            "green3\n"
          ]
        }
      ],
      "source": [
        "import itertools\n",
        "\n",
        "class Sentence:\n",
        "    def evaluate(self, model):\n",
        "        \"\"\"Evaluates the logical sentence.\"\"\"\n",
        "        raise Exception(\"nothing to evaluate\")\n",
        "\n",
        "    def formula(self):\n",
        "        \"\"\"Returns string formula representing logical sentence.\"\"\"\n",
        "        return \"\"\n",
        "\n",
        "    def symbols(self):\n",
        "        \"\"\"Returns a set of all symbols in the logical sentence.\"\"\"\n",
        "        return set()\n",
        "\n",
        "    @classmethod\n",
        "    def validate(cls, sentence):\n",
        "        if not isinstance(sentence, Sentence):\n",
        "            raise TypeError(\"must be a logical sentence\")\n",
        "\n",
        "    @classmethod\n",
        "    def parenthesize(cls, s):\n",
        "        \"\"\"Parenthesizes an expression if not already parenthesized.\"\"\"\n",
        "        def balanced(s):\n",
        "            \"\"\"Checks if a string has balanced parentheses.\"\"\"\n",
        "            count = 0\n",
        "            for c in s:\n",
        "                if c == \"(\":\n",
        "                    count += 1\n",
        "                elif c == \")\":\n",
        "                    if count <= 0:\n",
        "                        return False\n",
        "                    count -= 1\n",
        "            return count == 0\n",
        "\n",
        "        if not len(s) or s.isalpha() or (\n",
        "            s[0] == \"(\" and s[-1] == \")\" and balanced(s[1:-1])\n",
        "        ):\n",
        "            return s\n",
        "        else:\n",
        "            return f\"({s})\"\n",
        "\n",
        "class Symbol(Sentence):\n",
        "    def __init__(self, name):\n",
        "        self.name = name\n",
        "\n",
        "    def __eq__(self, other):\n",
        "        return isinstance(other, Symbol) and self.name == other.name\n",
        "\n",
        "    def __hash__(self):\n",
        "        return hash((\"symbol\", self.name))\n",
        "\n",
        "    def __repr__(self):\n",
        "        return self.name\n",
        "\n",
        "    def evaluate(self, model):\n",
        "        try:\n",
        "            return bool(model[self.name])\n",
        "        except KeyError:\n",
        "            raise Exception(f\"variable {self.name} not in model\")\n",
        "\n",
        "    def formula(self):\n",
        "        return self.name\n",
        "\n",
        "    def symbols(self):\n",
        "        return {self.name}\n",
        "\n",
        "class Not(Sentence):\n",
        "    def __init__(self, operand):\n",
        "        Sentence.validate(operand)\n",
        "        self.operand = operand\n",
        "\n",
        "    def __eq__(self, other):\n",
        "        return isinstance(other, Not) and self.operand == other.operand\n",
        "\n",
        "    def __hash__(self):\n",
        "        return hash((\"not\", hash(self.operand)))\n",
        "\n",
        "    def __repr__(self):\n",
        "        return f\"Not({self.operand})\"\n",
        "\n",
        "    def evaluate(self, model):\n",
        "        return not self.operand.evaluate(model)\n",
        "\n",
        "    def formula(self):\n",
        "        return \"¬\" + Sentence.parenthesize(self.operand.formula())\n",
        "\n",
        "    def symbols(self):\n",
        "        return self.operand.symbols()\n",
        "\n",
        "class And(Sentence):\n",
        "    def __init__(self, *conjuncts):\n",
        "        for conjunct in conjuncts:\n",
        "            Sentence.validate(conjunct)\n",
        "        self.conjuncts = list(conjuncts)\n",
        "\n",
        "    def __eq__(self, other):\n",
        "        return isinstance(other, And) and self.conjuncts == other.conjuncts\n",
        "\n",
        "    def __hash__(self):\n",
        "        return hash((\"and\", tuple(hash(conjunct) for conjunct in self.conjuncts)))\n",
        "\n",
        "    def __repr__(self):\n",
        "        conjunctions = \", \".join([str(conjunct) for conjunct in self.conjuncts])\n",
        "        return f\"And({conjunctions})\"\n",
        "\n",
        "    def add(self, conjunct):\n",
        "        Sentence.validate(conjunct)\n",
        "        self.conjuncts.append(conjunct)\n",
        "\n",
        "    def evaluate(self, model):\n",
        "        return all(conjunct.evaluate(model) for conjunct in self.conjuncts)\n",
        "\n",
        "    def formula(self):\n",
        "        if len(self.conjuncts) == 1:\n",
        "            return self.conjuncts[0].formula()\n",
        "        return \" ∧ \".join([Sentence.parenthesize(conjunct.formula()) for conjunct in self.conjuncts])\n",
        "\n",
        "    def symbols(self):\n",
        "        return set.union(*[conjunct.symbols() for conjunct in self.conjuncts])\n",
        "\n",
        "class Or(Sentence):\n",
        "    def __init__(self, *disjuncts):\n",
        "        for disjunct in disjuncts:\n",
        "            Sentence.validate(disjunct)\n",
        "        self.disjuncts = list(disjuncts)\n",
        "\n",
        "    def __eq__(self, other):\n",
        "        return isinstance(other, Or) and self.disjuncts == other.disjuncts\n",
        "\n",
        "    def __hash__(self):\n",
        "        return hash((\"or\", tuple(hash(disjunct) for disjunct in self.disjuncts)))\n",
        "\n",
        "    def __repr__(self):\n",
        "        disjuncts = \", \".join([str(disjunct) for disjunct in self.disjuncts])\n",
        "        return f\"Or({disjuncts})\"\n",
        "\n",
        "    def evaluate(self, model):\n",
        "        return any(disjunct.evaluate(model) for disjunct in self.disjuncts)\n",
        "\n",
        "    def formula(self):\n",
        "        if len(self.disjuncts) == 1:\n",
        "            return self.disjuncts[0].formula()\n",
        "        return \" ∨ \".join([Sentence.parenthesize(disjunct.formula()) for disjunct in self.disjuncts])\n",
        "\n",
        "    def symbols(self):\n",
        "        return set.union(*[disjunct.symbols() for disjunct in self.disjuncts])\n",
        "\n",
        "class Implication(Sentence):\n",
        "    def __init__(self, antecedent, consequent):\n",
        "        Sentence.validate(antecedent)\n",
        "        Sentence.validate(consequent)\n",
        "        self.antecedent = antecedent\n",
        "        self.consequent = consequent\n",
        "\n",
        "    def __eq__(self, other):\n",
        "        return (isinstance(other, Implication) and\n",
        "                self.antecedent == other.antecedent and\n",
        "                self.consequent == other.consequent)\n",
        "\n",
        "    def __hash__(self):\n",
        "        return hash((\"implies\", hash(self.antecedent), hash(self.consequent)))\n",
        "\n",
        "    def __repr__(self):\n",
        "        return f\"Implication({self.antecedent}, {self.consequent})\"\n",
        "\n",
        "    def evaluate(self, model):\n",
        "        return (not self.antecedent.evaluate(model) or self.consequent.evaluate(model))\n",
        "\n",
        "    def formula(self):\n",
        "        antecedent = Sentence.parenthesize(self.antecedent.formula())\n",
        "        consequent = Sentence.parenthesize(self.consequent.formula())\n",
        "        return f\"{antecedent} => {consequent}\"\n",
        "\n",
        "    def symbols(self):\n",
        "        return set.union(self.antecedent.symbols(), self.consequent.symbols())\n",
        "\n",
        "class Biconditional(Sentence):\n",
        "    def __init__(self, left, right):\n",
        "        Sentence.validate(left)\n",
        "        Sentence.validate(right)\n",
        "        self.left = left\n",
        "        self.right = right\n",
        "\n",
        "    def __eq__(self, other):\n",
        "        return (isinstance(other, Biconditional) and\n",
        "                self.left == other.left and\n",
        "                self.right == other.right)\n",
        "\n",
        "    def __hash__(self):\n",
        "        return hash((\"biconditional\", hash(self.left), hash(self.right)))\n",
        "\n",
        "    def __repr__(self):\n",
        "        return f\"Biconditional({self.left}, {self.right})\"\n",
        "\n",
        "    def evaluate(self, model):\n",
        "        return ((self.left.evaluate(model) and self.right.evaluate(model)) or\n",
        "                (not self.left.evaluate(model) and not self.right.evaluate(model)))\n",
        "\n",
        "    def formula(self):\n",
        "        left = Sentence.parenthesize(self.left.formula())\n",
        "        right = Sentence.parenthesize(self.right.formula())\n",
        "        return f\"{left} <=> {right}\"\n",
        "\n",
        "    def symbols(self):\n",
        "        return set.union(self.left.symbols(), self.right.symbols())\n",
        "\n",
        "def model_check(knowledge, query):\n",
        "    \"\"\"Checks if knowledge base entails query.\"\"\"\n",
        "    def check_all(knowledge, query, symbols, model):\n",
        "        \"\"\"Checks if knowledge base entails query, given a particular model.\"\"\"\n",
        "        # If model has an assignment for each symbol\n",
        "        if not symbols:\n",
        "            # If knowledge base is true in model, then query must also be true\n",
        "            if knowledge.evaluate(model):\n",
        "                return query.evaluate(model)\n",
        "            return True\n",
        "        else:\n",
        "            # Choose one of the remaining unused symbols\n",
        "            remaining = symbols.copy()\n",
        "            p = remaining.pop()\n",
        "            # Create a model where the symbol is true\n",
        "            model_true = model.copy()\n",
        "            model_true[p] = True\n",
        "            # Create a model where the symbol is false\n",
        "            model_false = model.copy()\n",
        "            model_false[p] = False\n",
        "            # Ensure entailment holds in both models\n",
        "            return (check_all(knowledge, query, remaining, model_true) and\n",
        "                    check_all(knowledge, query, remaining, model_false))\n",
        "\n",
        "    # Get all symbols in both knowledge and query\n",
        "    symbols = set.union(knowledge.symbols(), query.symbols())\n",
        "    # Check that knowledge entails query\n",
        "    return check_all(knowledge, query, symbols, dict())\n",
        "\n"
      ]
    },
    {
      "cell_type": "code",
      "source": [
        "# Main block for Google Colab execution\n",
        "if __name__ == \"__main__\":\n",
        "    colors = [\"red\",  \"green\", \"yellow\", \"blue\"]\n",
        "    symbols = [Symbol(f\"{color}{i}\") for i in range(4) for color in colors]\n",
        "    knowledge = And()\n",
        "\n",
        "    for color in colors:\n",
        "        knowledge.add(Or(\n",
        "            Symbol(f\"{color}0\"),\n",
        "            Symbol(f\"{color}1\"),\n",
        "            Symbol(f\"{color}2\"),\n",
        "            Symbol(f\"{color}3\")\n",
        "        ))\n",
        "\n",
        "    # Only one position per color.\n",
        "    for color in colors:\n",
        "        for i in range(4):\n",
        "            for j in range(4):\n",
        "                if i != j:\n",
        "                    knowledge.add(Implication(\n",
        "                        Symbol(f\"{color}{i}\"), Not(Symbol(f\"{color}{j}\"))\n",
        "                    ))\n",
        "\n",
        "    # Only one color per position.\n",
        "    for i in range(4):\n",
        "        for c1 in colors:\n",
        "            for c2 in colors:\n",
        "                if c1 != c2:\n",
        "                    knowledge.add(Implication(\n",
        "                        Symbol(f\"{c1}{i}\"), Not(Symbol(f\"{c2}{i}\"))\n",
        "                    ))\n",
        "\n",
        "    # Adding some additional constraints to the knowledge base\n",
        "    knowledge.add(Or(\n",
        "        And(Symbol(\"red0\"), Symbol(\"blue1\"), Not(Symbol(\"green2\")), Not(Symbol(\"yellow3\"))),\n",
        "        And(Symbol(\"red0\"), Symbol(\"green2\"), Not(Symbol(\"blue1\")), Not(Symbol(\"yellow3\"))),\n",
        "        And(Symbol(\"red0\"), Symbol(\"yellow3\"), Not(Symbol(\"blue1\")), Not(Symbol(\"green2\"))),\n",
        "        And(Symbol(\"blue1\"), Symbol(\"green2\"), Not(Symbol(\"red0\")), Not(Symbol(\"yellow3\"))),\n",
        "        And(Symbol(\"blue1\"), Symbol(\"yellow3\"), Not(Symbol(\"red0\")), Not(Symbol(\"green2\"))),\n",
        "        And(Symbol(\"green2\"), Symbol(\"yellow3\"), Not(Symbol(\"red0\")), Not(Symbol(\"blue1\")))\n",
        "    ))\n",
        "\n",
        "    # Further constraints for the knowledge base\n",
        "    knowledge.add(And(\n",
        "        Not(Symbol(\"blue0\")),\n",
        "        Not(Symbol(\"red1\")),\n",
        "        Not(Symbol(\"green2\")),\n",
        "        Not(Symbol(\"yellow3\"))\n",
        "    ))\n",
        "\n",
        "    # Checking which symbols are entailed by the knowledge base\n",
        "    print(\"Entailed symbols:\")\n",
        "    for symbol in symbols:\n",
        "        if model_check(knowledge, symbol):\n",
        "            print(symbol)\n"
      ],
      "metadata": {
        "colab": {
          "base_uri": "https://localhost:8080/"
        },
        "id": "NT4kt-UloJQO",
        "outputId": "775afc2e-5e90-4f3c-a5b8-5ec93304233a"
      },
      "execution_count": null,
      "outputs": [
        {
          "output_type": "stream",
          "name": "stdout",
          "text": [
            "Entailed symbols:\n",
            "red0\n",
            "blue1\n",
            "yellow2\n",
            "green3\n"
          ]
        }
      ]
    },
    {
      "cell_type": "markdown",
      "source": [
        "# Harry Potter People and Houses"
      ],
      "metadata": {
        "id": "Mlq4mhMVplHv"
      }
    },
    {
      "cell_type": "code",
      "source": [
        "rain = Symbol(\"rain\")\n",
        "hagrid = Symbol(\"hagrid\")\n",
        "dumbledore = Symbol(\"dumbledore\")\n",
        "\n",
        "knowledge = And(\n",
        "    Implication(Not(rain), hagrid),\n",
        "    Or(hagrid, dumbledore),\n",
        "    Not(And(hagrid, dumbledore)),\n",
        "    dumbledore\n",
        ")\n",
        "\n",
        "print(model_check(knowledge, rain))\n"
      ],
      "metadata": {
        "colab": {
          "base_uri": "https://localhost:8080/"
        },
        "id": "Tf4ROZJ2pvMO",
        "outputId": "4ec09a49-5106-4eeb-c27a-0e81f79b79ab"
      },
      "execution_count": null,
      "outputs": [
        {
          "output_type": "stream",
          "name": "stdout",
          "text": [
            "True\n"
          ]
        }
      ]
    },
    {
      "cell_type": "markdown",
      "source": [
        "This code is a logic-based problem similar to assigning students to houses in a school (inspired by the Hogwarts houses from the Harry Potter universe). It uses propositional logic to set up and solve constraints regarding which people (professors) belong to which house. Here’s what the code is doing step by step:\n",
        "\n",
        "### 1. **Define People and Houses**\n",
        "   - The code defines two lists:\n",
        "     - `people`: A list of individuals (professors): `[\"Gilderoy\", \"Pomona\", \"Minerva\", \"Horace\"]`.\n",
        "     - `houses`: A list of house names: `[\"Gryffindor\", \"Hufflepuff\", \"Ravenclaw\", \"Slytherin\"]`.\n",
        "   \n",
        "### 2. **Create Symbolic Representation for Each Person-House Pair**\n",
        "   - A list of `Symbol` objects is created to represent whether each person belongs to a specific house. For example, `Symbol(\"GilderoyGryffindor\")` represents the proposition that Gilderoy belongs to Gryffindor.\n",
        "\n",
        "### 3. **Set Up the Knowledge Base**\n",
        "   - An instance of the `And` class is used to create the `knowledge` base, which will store all the constraints.\n",
        "\n",
        "### 4. **Add Constraints to the Knowledge Base**\n",
        "   - **Each Person Belongs to Exactly One House:**\n",
        "     - For each person, an `Or` statement is added to the knowledge base, representing that the person must belong to one of the four houses (Gryffindor, Hufflepuff, Ravenclaw, or Slytherin).\n",
        "   \n",
        "   - **No Person Can Belong to More Than One House:**\n",
        "     - For each person, additional constraints are added to ensure that if they belong to one house, they cannot belong to another. This is achieved using `Implication` and `Not` statements, e.g., if Gilderoy is in Gryffindor, he cannot be in Hufflepuff, Ravenclaw, or Slytherin.\n",
        "   \n",
        "   - **Only One Person Can Belong to Each House:**\n",
        "     - For each house, constraints are added to ensure that if one person is in that house, no other person can be in the same house.\n",
        "\n",
        "### 5. **Output the Knowledge Base Formula**\n",
        "   - `knowledge.formula()` prints the entire logical expression that has been built up, representing all the constraints.\n",
        "\n",
        "### 6. **Add Specific Conditions to the Knowledge Base**\n",
        "   - The code adds some additional specific conditions to the knowledge:\n",
        "     - **Gilderoy belongs to Gryffindor or Ravenclaw**: An `Or` statement is used to represent this constraint.\n",
        "     - **Pomona does not belong to Slytherin**: This is represented using a `Not` statement.\n",
        "     - **Minerva belongs to Gryffindor**: This is represented by a `Symbol` statement.\n",
        "\n",
        "### 7. **Check the Knowledge Base for Entailment**\n",
        "   - The code iterates through all the symbols and uses the `model_check` function to determine if the knowledge base entails any of the symbols.\n",
        "   - If a symbol is entailed by the knowledge base, it means that it must be true in every model where the knowledge base holds. The entailed symbols are printed.\n",
        "\n",
        "### **Purpose of the Code**\n",
        "The code essentially sets up a logical problem of assigning people to houses with the following rules:\n",
        "1. Each person must belong to exactly one house.\n",
        "2. No two people can be assigned to the same house.\n",
        "3. There are additional specific conditions for some individuals.\n",
        "\n",
        "The code then tries to determine which assignments are logically deducible based on these constraints. This is an example of using propositional logic to solve constraint satisfaction problems (like scheduling or puzzle solving)."
      ],
      "metadata": {
        "id": "mqNtZGNkphKH"
      }
    },
    {
      "cell_type": "code",
      "source": [
        "people = [\"Gilderoy\", \"Pomona\", \"Minerva\", \"Horace\"]\n",
        "houses = [\"Gryffindor\", \"Hufflepuff\", \"Ravenclaw\", \"Slytherin\"]\n",
        "\n",
        "symbols = []\n",
        "\n",
        "knowledge = And()\n",
        "\n",
        "for person in people:\n",
        "    for house in houses:\n",
        "        symbols.append(Symbol(f\"{person}{house}\"))\n",
        "\n",
        "# Each person belongs to a house.\n",
        "for person in people:\n",
        "    knowledge.add(Or(\n",
        "        Symbol(f\"{person}Gryffindor\"),\n",
        "        Symbol(f\"{person}Hufflepuff\"),\n",
        "        Symbol(f\"{person}Ravenclaw\"),\n",
        "        Symbol(f\"{person}Slytherin\")\n",
        "    ))\n",
        "\n",
        "# Only one house per person.\n",
        "for person in people:\n",
        "    for h1 in houses:\n",
        "        for h2 in houses:\n",
        "            if h1 != h2:\n",
        "                knowledge.add(\n",
        "                    Implication(Symbol(f\"{person}{h1}\"), Not(Symbol(f\"{person}{h2}\")))\n",
        "                )\n",
        "\n",
        "# Only one person per house.\n",
        "for house in houses:\n",
        "    for p1 in people:\n",
        "        for p2 in people:\n",
        "            if p1 != p2:\n",
        "                knowledge.add(\n",
        "                    Implication(Symbol(f\"{p1}{house}\"), Not(Symbol(f\"{p2}{house}\")))\n",
        "                )\n",
        "\n",
        "print(knowledge.formula())\n",
        "\n",
        "knowledge.add(\n",
        "    Or(Symbol(\"GilderoyGryffindor\"), Symbol(\"GilderoyRavenclaw\"))\n",
        ")\n",
        "\n",
        "knowledge.add(\n",
        "    Not(Symbol(\"PomonaSlytherin\"))\n",
        ")\n",
        "\n",
        "knowledge.add(\n",
        "    Symbol(\"MinervaGryffindor\")\n",
        ")\n",
        "\n",
        "for symbol in symbols:\n",
        "    if model_check(knowledge, symbol):\n",
        "          print(symbol)"
      ],
      "metadata": {
        "colab": {
          "base_uri": "https://localhost:8080/"
        },
        "id": "c1RzSGl3pH37",
        "outputId": "a02b0da3-abfe-424a-881d-4302a12449c6"
      },
      "execution_count": null,
      "outputs": [
        {
          "output_type": "stream",
          "name": "stdout",
          "text": [
            "(GilderoyGryffindor ∨ GilderoyHufflepuff ∨ GilderoyRavenclaw ∨ GilderoySlytherin) ∧ (PomonaGryffindor ∨ PomonaHufflepuff ∨ PomonaRavenclaw ∨ PomonaSlytherin) ∧ (MinervaGryffindor ∨ MinervaHufflepuff ∨ MinervaRavenclaw ∨ MinervaSlytherin) ∧ (HoraceGryffindor ∨ HoraceHufflepuff ∨ HoraceRavenclaw ∨ HoraceSlytherin) ∧ (GilderoyGryffindor => (¬GilderoyHufflepuff)) ∧ (GilderoyGryffindor => (¬GilderoyRavenclaw)) ∧ (GilderoyGryffindor => (¬GilderoySlytherin)) ∧ (GilderoyHufflepuff => (¬GilderoyGryffindor)) ∧ (GilderoyHufflepuff => (¬GilderoyRavenclaw)) ∧ (GilderoyHufflepuff => (¬GilderoySlytherin)) ∧ (GilderoyRavenclaw => (¬GilderoyGryffindor)) ∧ (GilderoyRavenclaw => (¬GilderoyHufflepuff)) ∧ (GilderoyRavenclaw => (¬GilderoySlytherin)) ∧ (GilderoySlytherin => (¬GilderoyGryffindor)) ∧ (GilderoySlytherin => (¬GilderoyHufflepuff)) ∧ (GilderoySlytherin => (¬GilderoyRavenclaw)) ∧ (PomonaGryffindor => (¬PomonaHufflepuff)) ∧ (PomonaGryffindor => (¬PomonaRavenclaw)) ∧ (PomonaGryffindor => (¬PomonaSlytherin)) ∧ (PomonaHufflepuff => (¬PomonaGryffindor)) ∧ (PomonaHufflepuff => (¬PomonaRavenclaw)) ∧ (PomonaHufflepuff => (¬PomonaSlytherin)) ∧ (PomonaRavenclaw => (¬PomonaGryffindor)) ∧ (PomonaRavenclaw => (¬PomonaHufflepuff)) ∧ (PomonaRavenclaw => (¬PomonaSlytherin)) ∧ (PomonaSlytherin => (¬PomonaGryffindor)) ∧ (PomonaSlytherin => (¬PomonaHufflepuff)) ∧ (PomonaSlytherin => (¬PomonaRavenclaw)) ∧ (MinervaGryffindor => (¬MinervaHufflepuff)) ∧ (MinervaGryffindor => (¬MinervaRavenclaw)) ∧ (MinervaGryffindor => (¬MinervaSlytherin)) ∧ (MinervaHufflepuff => (¬MinervaGryffindor)) ∧ (MinervaHufflepuff => (¬MinervaRavenclaw)) ∧ (MinervaHufflepuff => (¬MinervaSlytherin)) ∧ (MinervaRavenclaw => (¬MinervaGryffindor)) ∧ (MinervaRavenclaw => (¬MinervaHufflepuff)) ∧ (MinervaRavenclaw => (¬MinervaSlytherin)) ∧ (MinervaSlytherin => (¬MinervaGryffindor)) ∧ (MinervaSlytherin => (¬MinervaHufflepuff)) ∧ (MinervaSlytherin => (¬MinervaRavenclaw)) ∧ (HoraceGryffindor => (¬HoraceHufflepuff)) ∧ (HoraceGryffindor => (¬HoraceRavenclaw)) ∧ (HoraceGryffindor => (¬HoraceSlytherin)) ∧ (HoraceHufflepuff => (¬HoraceGryffindor)) ∧ (HoraceHufflepuff => (¬HoraceRavenclaw)) ∧ (HoraceHufflepuff => (¬HoraceSlytherin)) ∧ (HoraceRavenclaw => (¬HoraceGryffindor)) ∧ (HoraceRavenclaw => (¬HoraceHufflepuff)) ∧ (HoraceRavenclaw => (¬HoraceSlytherin)) ∧ (HoraceSlytherin => (¬HoraceGryffindor)) ∧ (HoraceSlytherin => (¬HoraceHufflepuff)) ∧ (HoraceSlytherin => (¬HoraceRavenclaw)) ∧ (GilderoyGryffindor => (¬PomonaGryffindor)) ∧ (GilderoyGryffindor => (¬MinervaGryffindor)) ∧ (GilderoyGryffindor => (¬HoraceGryffindor)) ∧ (PomonaGryffindor => (¬GilderoyGryffindor)) ∧ (PomonaGryffindor => (¬MinervaGryffindor)) ∧ (PomonaGryffindor => (¬HoraceGryffindor)) ∧ (MinervaGryffindor => (¬GilderoyGryffindor)) ∧ (MinervaGryffindor => (¬PomonaGryffindor)) ∧ (MinervaGryffindor => (¬HoraceGryffindor)) ∧ (HoraceGryffindor => (¬GilderoyGryffindor)) ∧ (HoraceGryffindor => (¬PomonaGryffindor)) ∧ (HoraceGryffindor => (¬MinervaGryffindor)) ∧ (GilderoyHufflepuff => (¬PomonaHufflepuff)) ∧ (GilderoyHufflepuff => (¬MinervaHufflepuff)) ∧ (GilderoyHufflepuff => (¬HoraceHufflepuff)) ∧ (PomonaHufflepuff => (¬GilderoyHufflepuff)) ∧ (PomonaHufflepuff => (¬MinervaHufflepuff)) ∧ (PomonaHufflepuff => (¬HoraceHufflepuff)) ∧ (MinervaHufflepuff => (¬GilderoyHufflepuff)) ∧ (MinervaHufflepuff => (¬PomonaHufflepuff)) ∧ (MinervaHufflepuff => (¬HoraceHufflepuff)) ∧ (HoraceHufflepuff => (¬GilderoyHufflepuff)) ∧ (HoraceHufflepuff => (¬PomonaHufflepuff)) ∧ (HoraceHufflepuff => (¬MinervaHufflepuff)) ∧ (GilderoyRavenclaw => (¬PomonaRavenclaw)) ∧ (GilderoyRavenclaw => (¬MinervaRavenclaw)) ∧ (GilderoyRavenclaw => (¬HoraceRavenclaw)) ∧ (PomonaRavenclaw => (¬GilderoyRavenclaw)) ∧ (PomonaRavenclaw => (¬MinervaRavenclaw)) ∧ (PomonaRavenclaw => (¬HoraceRavenclaw)) ∧ (MinervaRavenclaw => (¬GilderoyRavenclaw)) ∧ (MinervaRavenclaw => (¬PomonaRavenclaw)) ∧ (MinervaRavenclaw => (¬HoraceRavenclaw)) ∧ (HoraceRavenclaw => (¬GilderoyRavenclaw)) ∧ (HoraceRavenclaw => (¬PomonaRavenclaw)) ∧ (HoraceRavenclaw => (¬MinervaRavenclaw)) ∧ (GilderoySlytherin => (¬PomonaSlytherin)) ∧ (GilderoySlytherin => (¬MinervaSlytherin)) ∧ (GilderoySlytherin => (¬HoraceSlytherin)) ∧ (PomonaSlytherin => (¬GilderoySlytherin)) ∧ (PomonaSlytherin => (¬MinervaSlytherin)) ∧ (PomonaSlytherin => (¬HoraceSlytherin)) ∧ (MinervaSlytherin => (¬GilderoySlytherin)) ∧ (MinervaSlytherin => (¬PomonaSlytherin)) ∧ (MinervaSlytherin => (¬HoraceSlytherin)) ∧ (HoraceSlytherin => (¬GilderoySlytherin)) ∧ (HoraceSlytherin => (¬PomonaSlytherin)) ∧ (HoraceSlytherin => (¬MinervaSlytherin))\n",
            "GilderoyRavenclaw\n",
            "PomonaHufflepuff\n",
            "MinervaGryffindor\n",
            "HoraceSlytherin\n"
          ]
        }
      ]
    },
    {
      "cell_type": "markdown",
      "source": [
        "# *Clue*"
      ],
      "metadata": {
        "id": "E6KXmcc_qngQ"
      }
    },
    {
      "cell_type": "markdown",
      "source": [
        "The code simulates a deduction problem inspired by the game *Clue* (also known as *Cluedo*), where the objective is to determine the correct person, room, and weapon associated with a crime. The logic-based approach models the problem using propositional logic, defining various symbols and knowledge constraints, and then checks what can be logically deduced from the given information.\n",
        "\n",
        "### 1. **Defining Symbols**\n",
        "   - **Characters**: The suspects are represented by the symbols `mustard` (Col. Mustard), `plum` (Prof. Plum), and `scarlet` (Ms. Scarlet).\n",
        "   - **Rooms**: The possible locations are represented by the symbols `ballroom`, `kitchen`, and `library`.\n",
        "   - **Weapons**: The potential weapons used in the crime are represented by the symbols `knife`, `revolver`, and `wrench`.\n",
        "   - **Symbols List**: Combines all characters, rooms, and weapons into a single list (`symbols`) for later use in checking deductions.\n",
        "\n",
        "### 2. **Defining the `check_knowledge` Function**\n",
        "   - This function checks which symbols are entailed by the `knowledge` base (representing what is known).\n",
        "   - It uses the `model_check` function to evaluate whether each symbol can be deduced:\n",
        "     - If the symbol is entailed by the knowledge (must be true), it prints the symbol with \"YES\" in green.\n",
        "     - If the negation of the symbol cannot be confirmed (it could be true or false), it prints the symbol with \"MAYBE\".\n",
        "\n",
        "### 3. **Setting Up the Knowledge Base**\n",
        "   - An instance of `And` is used to create the `knowledge` base, where logical constraints and information are added.\n",
        "   - **Base Constraints**:\n",
        "     - At least one of the characters must be involved in the crime: `Or(mustard, plum, scarlet)`.\n",
        "     - The crime occurred in at least one of the rooms: `Or(ballroom, kitchen, library)`.\n",
        "     - At least one of the weapons was used: `Or(knife, revolver, wrench)`.\n",
        "\n",
        "### 4. **Adding Additional Information (Constraints)**\n",
        "   - **Initial Cards Known to Be False**:\n",
        "     - `Not(mustard)`, `Not(kitchen)`, and `Not(revolver)` are added, indicating that Col. Mustard is not involved, the kitchen is not the location, and the revolver is not the weapon.\n",
        "   - **Possible Combinations**:\n",
        "     - Adds an `Or` condition indicating that at least one of `scarlet`, `library`, or `wrench` is not part of the solution.\n",
        "   - **Known False Cards**:\n",
        "     - `Not(plum)` and `Not(ballroom)` indicate that Prof. Plum is not the suspect and the ballroom is not the location.\n",
        "\n",
        "### 5. **Checking the Knowledge**\n",
        "   - The `check_knowledge` function is called with the knowledge base, printing whether each character, room, or weapon is a \"YES\" (definitely true) or \"MAYBE\" (uncertain based on the current knowledge).\n",
        "\n",
        "### **Purpose of the Code**\n",
        "The code performs logical deduction to determine which combinations of person, room, and weapon can be ruled out or confirmed based on the given constraints. It systematically evaluates the possibilities using propositional logic, simulating the process of solving the *Clue* mystery by eliminating suspects, locations, and weapons. This approach can be extended to more complex scenarios by adding more constraints or possibilities."
      ],
      "metadata": {
        "id": "DXC4O2fjqj_F"
      }
    },
    {
      "cell_type": "code",
      "source": [
        "import termcolor\n",
        "\n",
        "mustard = Symbol(\"ColMustard\")\n",
        "plum = Symbol(\"ProfPlum\")\n",
        "scarlet = Symbol(\"MsScarlet\")\n",
        "characters = [mustard, plum, scarlet]\n",
        "\n",
        "ballroom = Symbol(\"ballroom\")\n",
        "kitchen = Symbol(\"kitchen\")\n",
        "library = Symbol(\"library\")\n",
        "rooms = [ballroom, kitchen, library]\n",
        "\n",
        "knife = Symbol(\"knife\")\n",
        "revolver = Symbol(\"revolver\")\n",
        "wrench = Symbol(\"wrench\")\n",
        "weapons = [knife, revolver, wrench]\n",
        "\n",
        "symbols = characters + rooms + weapons\n",
        "\n",
        "\n",
        "def check_knowledge(knowledge):\n",
        "    for symbol in symbols:\n",
        "        if model_check(knowledge, symbol):\n",
        "            termcolor.cprint(f\"{symbol}: YES\", \"green\")\n",
        "        elif not model_check(knowledge, Not(symbol)):\n",
        "            print(f\"{symbol}: MAYBE\")\n",
        "\n",
        "\n",
        "# There must be a person, room, and weapon.\n",
        "knowledge = And(\n",
        "    Or(mustard, plum, scarlet),\n",
        "    Or(ballroom, kitchen, library),\n",
        "    Or(knife, revolver, wrench)\n",
        ")\n",
        "\n",
        "# Initial cards\n",
        "knowledge.add(And(\n",
        "    Not(mustard), Not(kitchen), Not(revolver)\n",
        "))\n",
        "\n",
        "# Unknown card\n",
        "knowledge.add(Or(\n",
        "    Not(scarlet), Not(library), Not(wrench)\n",
        "))\n",
        "\n",
        "# Known cards\n",
        "knowledge.add(Not(plum))\n",
        "knowledge.add(Not(ballroom))\n",
        "\n",
        "\n"
      ],
      "metadata": {
        "id": "Gl_7SmDSqTH-"
      },
      "execution_count": null,
      "outputs": []
    },
    {
      "cell_type": "code",
      "source": [
        "check_knowledge(knowledge)"
      ],
      "metadata": {
        "colab": {
          "base_uri": "https://localhost:8080/"
        },
        "id": "oK0_9EyBrCw2",
        "outputId": "11313d35-1197-4819-b7ee-23254d88454b"
      },
      "execution_count": null,
      "outputs": [
        {
          "output_type": "stream",
          "name": "stdout",
          "text": [
            "MsScarlet: YES\n",
            "library: YES\n",
            "knife: YES\n"
          ]
        }
      ]
    }
  ]
}